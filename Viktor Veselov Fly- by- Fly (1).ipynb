{
 "cells": [
  {
   "cell_type": "markdown",
   "metadata": {},
   "source": [
    "# Fly by Fly"
   ]
  },
  {
   "cell_type": "markdown",
   "metadata": {},
   "source": [
    "#### Authors: V. Viktor"
   ]
  },
  {
   "cell_type": "markdown",
   "metadata": {},
   "source": [
    "Description: This project designed to reproduce and build module consist of 3 objects. Initially, objects 1 and 2 are in system 1 where object 3 in system 2 fly near system 1 and desterbit. Our main goal is to see what is going to happen"
   ]
  },
  {
   "cell_type": "markdown",
   "metadata": {},
   "source": [
    "In this note we will go over our group code. Also, we will try to experiment with different mass, directions etc. So, stay with me for quite sometime"
   ]
  },
  {
   "cell_type": "markdown",
   "metadata": {},
   "source": [
    "#### Supervisor: Professor Charles Keeton"
   ]
  },
  {
   "cell_type": "code",
   "execution_count": 1,
   "metadata": {},
   "outputs": [],
   "source": [
    "import numpy as np\n",
    "import matplotlib.pyplot as plt\n",
    "%matplotlib inline\n",
    "from scipy import integrate\n",
    "from astropy import constants as const\n",
    "from astropy import units as u\n",
    "from celluloid import Camera"
   ]
  },
  {
   "cell_type": "code",
   "execution_count": 2,
   "metadata": {},
   "outputs": [],
   "source": [
    "plt.rcParams.update({'font.size': 16, 'text.usetex': True})"
   ]
  },
  {
   "cell_type": "code",
   "execution_count": 3,
   "metadata": {},
   "outputs": [
    {
     "name": "stdout",
     "output_type": "stream",
     "text": [
      "1.0 AU 5.965426246014431e+33 g\n"
     ]
    }
   ],
   "source": [
    "# Parameters\n",
    "\n",
    "M0= const.M_sun.cgs\n",
    "M1 = 2*const.M_sun.cgs\n",
    "M2 = 2*const.M_sun.cgs\n",
    "a = 1*u.au\n",
    "M = M0+M1\n",
    "print(a,M)"
   ]
  },
  {
   "cell_type": "code",
   "execution_count": 4,
   "metadata": {},
   "outputs": [
    {
     "name": "stdout",
     "output_type": "stream",
     "text": [
      "0.6666666666666667 AU 0.33333333333333337 AU 10.0 AU\n"
     ]
    }
   ],
   "source": [
    "# Total mass\n",
    "\n",
    "M=M0+M1\n",
    "meu= (M0*M1)/(M0+M1)\n",
    "\n",
    "# Radiuse with respect to the center of mass\n",
    "\n",
    "r0=meu/M0*a\n",
    "r1=meu/M1*a\n",
    "r2 = 10*u.au\n",
    "\n",
    "# define \"movement\" along y-direction\n",
    "\n",
    "r2y = 4*u.au\n",
    "print(r0, r1, r2)"
   ]
  },
  {
   "cell_type": "code",
   "execution_count": 5,
   "metadata": {},
   "outputs": [
    {
     "name": "stdout",
     "output_type": "stream",
     "text": [
      "9.957800565454806e-12 AU(3/2) kg(1/2) s / (g(1/2) m(3/2))   Name   = Gravitational constant\n",
      "  Value  = 6.67408e-11\n",
      "  Uncertainty  = 3.1e-15\n",
      "  Unit  = m3 / (kg s2)\n",
      "  Reference = CODATA 2014\n"
     ]
    }
   ],
   "source": [
    "# Period, G constant\n",
    "\n",
    "P= np.sqrt((4*np.pi**2)*(a**3)/(const.G*M))\n",
    "G = const.G\n",
    "print(P, G)"
   ]
  },
  {
   "cell_type": "code",
   "execution_count": 6,
   "metadata": {},
   "outputs": [
    {
     "name": "stdout",
     "output_type": "stream",
     "text": [
      "34392.399691188046 m / s 17196.199845594023 m / s\n"
     ]
    }
   ],
   "source": [
    "# Velocity parameters for df_3body_SI\n",
    "\n",
    "v0 = 2.0*np.pi*r0/P\n",
    "v1 = 2.0*np.pi*r1/P\n",
    "v2 = 5*v0\n",
    "\n",
    "print(v0.decompose(), v1.decompose())"
   ]
  },
  {
   "cell_type": "code",
   "execution_count": 7,
   "metadata": {},
   "outputs": [],
   "source": [
    "# Decompose variable b/c Python will not work \n",
    "# If unites are inside your equatio\n",
    "# Moreover, mathematicaly you want your integral be unitless\n",
    "\n",
    "r0 = r0.decompose().value\n",
    "r1 = r1.decompose().value\n",
    "r2 = r2.decompose().value\n",
    "r2y = r2y.decompose().value\n",
    "\n",
    "M0 = M0.decompose().value\n",
    "M1 = M1.decompose().value\n",
    "M2 = M2.decompose().value\n",
    "\n",
    "G= G.decompose().value\n",
    "P = P.decompose().value\n",
    "\n",
    "v0 = v0.decompose().value\n",
    "v1 = v1.decompose().value\n",
    "v2 = v2.decompose().value\n"
   ]
  },
  {
   "cell_type": "code",
   "execution_count": 8,
   "metadata": {},
   "outputs": [],
   "source": [
    "#set vec for all bodies \n",
    "\n",
    "def df_3body_SI(vec,t):\n",
    "    \n",
    "    # 1st body\n",
    "    \n",
    "    x0 = vec[0]\n",
    "    y0 = vec[1]\n",
    "    z0 = vec[2]\n",
    "    vx0 = vec[3]\n",
    "    vy0 = vec[4]\n",
    "    vz0 = vec[5]\n",
    "    \n",
    "    # 2nd body\n",
    "    \n",
    "    x1= vec[6]\n",
    "    y1= vec[7]\n",
    "    z1= vec[8]\n",
    "    vx1= vec[9]\n",
    "    vy1= vec[10]\n",
    "    vz1= vec[11]\n",
    "    \n",
    "    # 3rd body\n",
    "\n",
    "    x2= vec[12]\n",
    "    y2= vec[13]\n",
    "    z2= vec[14]\n",
    "    vx2= vec[15]\n",
    "    vy2= vec[16]\n",
    "    vz2= vec[17]\n",
    "    \n",
    "    # define radius with respect to position\n",
    "    \n",
    "    r01 = np.sqrt((x1-x0)**2+(y1-y0)**2+(z1-z0)**2)\n",
    "    r02 = np.sqrt((x2-x0)**2+(y2-y0)**2+(z2-z0)**2)\n",
    "    r12 = np.sqrt((x2-x1)**2+(y2-y1)**2+(z2-z1)**2)\n",
    "\n",
    "    dvec = np.zeros(len(vec))\n",
    "    dvec[0] = vx0\n",
    "    dvec[1] = vy0\n",
    "    dvec[2] = vz0\n",
    "    dvec[3] = G*M1*(x1-x0)/r01**3 + G*M2*(x2-x0)/r02**3\n",
    "    dvec[4] = G*M1*(y1-y0)/r01**3 + G*M2*(y2-y0)/r02**3\n",
    "    dvec[5] = G*M1*(z1-z0)/r01**3 + G*M2*(z2-z0)/r02**3\n",
    "    \n",
    "    dvec[6] = vx1\n",
    "    dvec[7] = vy1\n",
    "    dvec[8] = vz1\n",
    "    dvec[9] = G*M0*(x0-x1)/r01**3 + G*M2*(x2-x1)/r12**3\n",
    "    dvec[10] = G*M0*(y0-y1)/r01**3 + G*M2*(y2-y1)/r12**3\n",
    "    dvec[11] = G*M0*(z0-z1)/r01**3 + G*M2*(z2-z1)/r12**3\n",
    "    \n",
    "    dvec[12] = vy2\n",
    "    dvec[13] = vz2\n",
    "    dvec[14] = vx2\n",
    "    dvec[15] = G*M1*(x1-x2)/r12**3 + G*M0*(x0-x2)/r02**3\n",
    "    dvec[16] = G*M1*(y1-y2)/r12**3 + G*M0*(y0-y2)/r02**3\n",
    "    dvec[17] = G*M1*(z1-z2)/r12**3 + G*M0*(z0-z2)/r02**3\n",
    "    return dvec"
   ]
  },
  {
   "cell_type": "code",
   "execution_count": 9,
   "metadata": {
    "scrolled": true
   },
   "outputs": [],
   "source": [
    "# initial radius, initial velocity\n",
    "\n",
    "tarr= np.linspace(0, 10*P, 700)\n",
    "\n",
    "# define our direction of the motion for each object\n",
    "# ([x_1, x_2, y_1, y_2, z_1, z_2... etc. for each body])\n",
    "\n",
    "vec0 = np.array([r0, 0, 0, 0, v0, 0, -r1, 0, 0, 0, -v1, 0, -r2, r2y, 0, 0, v2, 0])\n",
    "\n",
    "# find solution\n",
    "\n",
    "ans0 = integrate.odeint(df_3body_SI, vec0, tarr)\n",
    "\n",
    "\n",
    "# extract the various variables 1st object\n",
    "\n",
    "x0 = ans0[:,0]\n",
    "y0 = ans0[:,1]\n",
    "z0 = ans0[:,2]\n",
    "vx0 = ans0[:,3]\n",
    "vy0 = ans0[:,4]\n",
    "vz0 = ans0[:,5]\n",
    "\n",
    "# extract the various variables 2nd object\n",
    "\n",
    "x1 = ans0[:,6]\n",
    "y1 = ans0[:,7]\n",
    "z1 = ans0[:,8]\n",
    "vx1 = ans0[:,9]\n",
    "vy1 = ans0[:,10]\n",
    "vz1 = ans0[:,11]\n",
    "\n",
    "\n",
    "# extract the various variables 3rd object\n",
    "\n",
    "x2 = ans0[:,12]\n",
    "y2 = ans0[:,13]\n",
    "z2 = ans0[:,14]\n",
    "vx2 = ans0[:,15]\n",
    "vy2 = ans0[:,16]\n",
    "vz2 = ans0[:,17]"
   ]
  },
  {
   "cell_type": "code",
   "execution_count": 10,
   "metadata": {},
   "outputs": [
    {
     "data": {
      "image/png": "[encoded data removed]",
      "text/plain": [
       "<Figure size 864x864 with 1 Axes>"
      ]
     },
     "metadata": {
      "needs_background": "light"
     },
     "output_type": "display_data"
    }
   ],
   "source": [
    "# define sub-lables \n",
    "\n",
    "plt.figure(figsize=(12,12))\n",
    "plt.plot(x0,y0, label = \"Binary 1\")\n",
    "plt.plot(x1,y1, label = \"Binary 2\")\n",
    "plt.plot(x2,y2, label = \"Fly-by body\")\n",
    "\n",
    "# define the name of the graph\n",
    "# define boundaries after revision\n",
    "\n",
    "plt.title(\"Modeling M0 + M1 with M2 pathing through them\")\n",
    "plt.xlim(-2*10**12, 2*10**12)\n",
    "plt.ylim(-10*10**11, 10*10**11)\n",
    "\n",
    "# define dimension x vs y\n",
    "\n",
    "plt.plot(0,0,'*',color='black')\n",
    "plt.legend(loc='lower left')\n",
    "plt.xlabel('Dustance x-direction (m)')\n",
    "plt.ylabel('Distance y-direction (m)')\n",
    "plt.gca().set_aspect('equal')\n",
    "plt.show()"
   ]
  },
  {
   "cell_type": "code",
   "execution_count": 11,
   "metadata": {},
   "outputs": [],
   "source": [
    "from celluloid import Camera"
   ]
  },
  {
   "cell_type": "code",
   "execution_count": 12,
   "metadata": {},
   "outputs": [
    {
     "name": "stderr",
     "output_type": "stream",
     "text": [
      "MovieWriter ffmpeg unavailable; trying to use <class 'matplotlib.animation.PillowWriter'> instead.\n"
     ]
    },
    {
     "data": {
      "image/png": "[encoded data removed]",
      "text/plain": [
       "<Figure size 720x720 with 1 Axes>"
      ]
     },
     "metadata": {
      "needs_background": "light"
     },
     "output_type": "display_data"
    }
   ],
   "source": [
    "# set up the plot\n",
    "fig = plt.figure(figsize=(10,10))\n",
    "\n",
    "camera = Camera(fig)\n",
    "\n",
    "#set your limits after a revision\n",
    "\n",
    "plt.title(\"Modeling M0 + M1 with M2 pathing through them in motion\")\n",
    "plt.xlim(-2*10**12, 2*10**12)\n",
    "plt.ylim(-10*10**11, 10*10**11)\n",
    "\n",
    "# set x and y lables\n",
    "\n",
    "plt.xlabel('Distance x-direction (m)')\n",
    "plt.ylabel('Distance y-direction (m)')\n",
    "plt.gca().set_aspect('equal')\n",
    "\n",
    "# plot our 3 body model with 700 steps\n",
    "# if it is needed we can change number of steps 2 cells above in \"tarr= np.linspace(0, 10*P, 700)\"\n",
    "\n",
    "for tindx in range(len(tarr)):\n",
    "    plt.plot(x0[tindx],y0[tindx],'o',color='blue')\n",
    "    plt.plot(x1[tindx],y1[tindx],'o',color='orange')\n",
    "    plt.plot(x2[tindx],y2[tindx],'o',color='green')\n",
    "    plt.plot(0,0,'*',color='black')\n",
    "    camera.snap()\n",
    "camera.animate().save('movie1.gif',fps=10,dpi=300)"
   ]
  },
  {
   "cell_type": "markdown",
   "metadata": {},
   "source": [
    " "
   ]
  },
  {
   "cell_type": "markdown",
   "metadata": {},
   "source": [
    " "
   ]
  },
  {
   "cell_type": "markdown",
   "metadata": {},
   "source": [
    " "
   ]
  },
  {
   "cell_type": "markdown",
   "metadata": {},
   "source": [
    " "
   ]
  },
  {
   "cell_type": "markdown",
   "metadata": {},
   "source": [
    "#                                            Sub-Analysis "
   ]
  },
  {
   "cell_type": "markdown",
   "metadata": {},
   "source": [
    " "
   ]
  },
  {
   "cell_type": "markdown",
   "metadata": {},
   "source": [
    " "
   ]
  },
  {
   "cell_type": "markdown",
   "metadata": {},
   "source": [
    " "
   ]
  },
  {
   "cell_type": "markdown",
   "metadata": {},
   "source": [
    "# Now Let's consider different masses such as M2 Flys away"
   ]
  },
  {
   "cell_type": "markdown",
   "metadata": {},
   "source": [
    "#### What is going to happen if mass of our fly by object will 120 M_sun given everything else is a constant (M2 = 120*M_sun)"
   ]
  },
  {
   "cell_type": "code",
   "execution_count": 13,
   "metadata": {},
   "outputs": [
    {
     "name": "stdout",
     "output_type": "stream",
     "text": [
      "1.0 AU 5.965426246014431e+33 g\n"
     ]
    }
   ],
   "source": [
    "# Parameters\n",
    "\n",
    "M0= const.M_sun.cgs\n",
    "M1 = 2*const.M_sun.cgs\n",
    "M2 = 120*const.M_sun.cgs\n",
    "a = 1*u.au\n",
    "M = M0+M1\n",
    "print(a,M)"
   ]
  },
  {
   "cell_type": "code",
   "execution_count": 14,
   "metadata": {},
   "outputs": [
    {
     "name": "stdout",
     "output_type": "stream",
     "text": [
      "0.6666666666666667 AU 0.33333333333333337 AU 10.0 AU\n"
     ]
    }
   ],
   "source": [
    "#Total mass\n",
    "\n",
    "M=M0+M1\n",
    "meu= (M0*M1)/(M0+M1)\n",
    "\n",
    "#radiuse with respect to the center of mass\n",
    "\n",
    "r0=meu/M0*a\n",
    "r1=meu/M1*a\n",
    "r2 = 10*u.au\n",
    "print(r0, r1, r2)"
   ]
  },
  {
   "cell_type": "code",
   "execution_count": 15,
   "metadata": {},
   "outputs": [],
   "source": [
    "# Period\n",
    "P= np.sqrt((4*np.pi**2)*(a**3)/(const.G*M))\n",
    "G = const.G"
   ]
  },
  {
   "cell_type": "code",
   "execution_count": 16,
   "metadata": {},
   "outputs": [
    {
     "name": "stdout",
     "output_type": "stream",
     "text": [
      "34392.399691188046 m / s 17196.199845594023 m / s\n"
     ]
    }
   ],
   "source": [
    "# define velocity \n",
    "\n",
    "v0 = 2.0*np.pi*r0/P\n",
    "v1 = 2.0*np.pi*r1/P\n",
    "\n",
    "print(v0.decompose(), v1.decompose())"
   ]
  },
  {
   "cell_type": "code",
   "execution_count": 17,
   "metadata": {},
   "outputs": [],
   "source": [
    "# Decompose variable b/c Python will not work \n",
    "# If unites are inside your equatio\n",
    "# Moreover, mathematicaly you want your integral be unitless\n",
    "\n",
    "r0 = r0.decompose().value\n",
    "r1 = r1.decompose().value\n",
    "r2 = r2.decompose().value\n",
    "\n",
    "M0 = M0.decompose().value\n",
    "M1 = M1.decompose().value\n",
    "M2 = M2.decompose().value\n",
    "\n",
    "G= G.decompose().value\n",
    "P = P.decompose().value\n",
    "\n",
    "v0 = v0.decompose().value\n",
    "v1 = v1.decompose().value\n"
   ]
  },
  {
   "cell_type": "code",
   "execution_count": 18,
   "metadata": {},
   "outputs": [],
   "source": [
    "# define system of vectors\n",
    "\n",
    "def df_3body_SI(vec,t):\n",
    "    x0 = vec[0]\n",
    "    y0 = vec[1]\n",
    "    z0 = vec[2]\n",
    "    vx0 = vec[3]\n",
    "    vy0 = vec[4]\n",
    "    vz0 = vec[5]\n",
    "    \n",
    "    x1= vec[6]\n",
    "    y1= vec[7]\n",
    "    z1= vec[8]\n",
    "    vx1= vec[9]\n",
    "    vy1= vec[10]\n",
    "    vz1= vec[11]\n",
    "\n",
    "    x2= vec[12]\n",
    "    y2= vec[13]\n",
    "    z2= vec[14]\n",
    "    vx2= vec[15]\n",
    "    vy2= vec[16]\n",
    "    vz2= vec[17]\n",
    "    \n",
    "    # define radius with respect to position\n",
    "   \n",
    "    r01 = np.sqrt((x1-x0)**2+(y1-y0)**2+(z1-z0)**2)\n",
    "    r02 = np.sqrt((x2-x0)**2+(y2-y0)**2+(z2-z0)**2)\n",
    "    r12 = np.sqrt((x2-x1)**2+(y2-y1)**2+(z2-z1)**2)\n",
    "\n",
    "    dvec = np.zeros(len(vec))\n",
    "    dvec[0] = vx0\n",
    "    dvec[1] = vy0\n",
    "    dvec[2] = vz0\n",
    "    dvec[3] = G*M1*(x1-x0)/r01**3 + G*M2*(x2-x0)/r02**3\n",
    "    dvec[4] = G*M1*(y1-y0)/r01**3 + G*M2*(y2-y0)/r02**3\n",
    "    dvec[5] = G*M1*(z1-z0)/r01**3 + G*M2*(z2-z0)/r02**3\n",
    "    \n",
    "    dvec[6] = vx1\n",
    "    dvec[7] = vy1\n",
    "    dvec[8] = vz1\n",
    "    dvec[9] = G*M0*(x0-x1)/r01**3 + G*M2*(x2-x1)/r12**3\n",
    "    dvec[10] = G*M0*(y0-y1)/r01**3 + G*M2*(y2-y1)/r12**3\n",
    "    dvec[11] = G*M0*(z0-z1)/r01**3 + G*M2*(z2-z1)/r12**3\n",
    "    \n",
    "    dvec[12] = vy2\n",
    "    dvec[13] = vz2\n",
    "    dvec[14] = vx2\n",
    "    dvec[15] = G*M1*(x1-x2)/r12**3 + G*M0*(x0-x2)/r02**3\n",
    "    dvec[16] = G*M1*(y1-y2)/r12**3 + G*M0*(y0-y2)/r02**3\n",
    "    dvec[17] = G*M1*(z1-z2)/r12**3 + G*M0*(z0-z2)/r02**3\n",
    "    return dvec"
   ]
  },
  {
   "cell_type": "code",
   "execution_count": 19,
   "metadata": {},
   "outputs": [],
   "source": [
    "#initial radius, initial velocity\n",
    "\n",
    "tarr= np.linspace(0, 10*P, 700)\n",
    "vec0 = np.array([r0, 0, 0, 0, v0, 0, -r1, 0, 0, 0, -v1, 0, -r2, 0, 0, 0, -v0, 0])\n",
    "ans0 = integrate.odeint(df_3body_SI, vec0, tarr)\n",
    "\n",
    "\n",
    "# extract the various variables\n",
    "\n",
    "x0 = ans0[:,0]\n",
    "y0 = ans0[:,1]\n",
    "z0 = ans0[:,2]\n",
    "vx0 = ans0[:,3]\n",
    "vy0 = ans0[:,4]\n",
    "vz0 = ans0[:,5]\n",
    "\n",
    "# extract the various variables\n",
    "\n",
    "x1 = ans0[:,6]\n",
    "y1 = ans0[:,7]\n",
    "z1 = ans0[:,8]\n",
    "vx1 = ans0[:,9]\n",
    "vy1 = ans0[:,10]\n",
    "vz1 = ans0[:,11]\n",
    "\n",
    "\n",
    "# extract the various variables\n",
    "\n",
    "x2 = ans0[:,12]\n",
    "y2 = ans0[:,13]\n",
    "z2 = ans0[:,14]\n",
    "vx2 = ans0[:,15]\n",
    "vy2 = ans0[:,16]\n",
    "vz2 = ans0[:,17]"
   ]
  },
  {
   "cell_type": "code",
   "execution_count": 20,
   "metadata": {},
   "outputs": [
    {
     "data": {
      "image/png": "[encoded data removed]",
      "text/plain": [
       "<Figure size 864x864 with 1 Axes>"
      ]
     },
     "metadata": {
      "needs_background": "light"
     },
     "output_type": "display_data"
    }
   ],
   "source": [
    "# define sub-lables\n",
    "\n",
    "plt.figure(figsize=(12,12))\n",
    "plt.plot(x0,y0, label = \"Binary 1\")\n",
    "plt.plot(x1,y1, label = \"Binary 2\")\n",
    "plt.plot(x2,y2, label = \"Fly-by body\")\n",
    "\n",
    "# mark the star's position\n",
    "\n",
    "plt.title(\"Modeling M0 + M1 with M2 moving away\")\n",
    "plt.xlim(-10*10**12, 2*10**12)\n",
    "plt.ylim(-20*10**11, 10*10**11)\n",
    "\n",
    "plt.plot(0,0,'*',color='black')\n",
    "plt.legend(loc='lower left')\n",
    "plt.xlabel('Distance x-direction (m)')\n",
    "plt.ylabel('Distance y-direction (m)')\n",
    "plt.gca().set_aspect('equal')\n",
    "plt.show()"
   ]
  },
  {
   "cell_type": "code",
   "execution_count": 21,
   "metadata": {},
   "outputs": [
    {
     "name": "stderr",
     "output_type": "stream",
     "text": [
      "MovieWriter ffmpeg unavailable; trying to use <class 'matplotlib.animation.PillowWriter'> instead.\n"
     ]
    },
    {
     "data": {
      "image/png": "[encoded data removed]",
      "text/plain": [
       "<Figure size 720x720 with 1 Axes>"
      ]
     },
     "metadata": {
      "needs_background": "light"
     },
     "output_type": "display_data"
    }
   ],
   "source": [
    "# set up plot in celluloid/in motion\n",
    "\n",
    "fig = plt.figure(figsize=(10,10))\n",
    "\n",
    "camera = Camera(fig)\n",
    "\n",
    "#set your limits after a revision\n",
    "\n",
    "plt.title(\"Modeling M0 + M1 with M2 moving away in motion\")\n",
    "plt.xlim(-10*10**12, 2*10**12)\n",
    "plt.ylim(-20*10**11, 10*10**11)\n",
    "\n",
    "# set x and y lables\n",
    "\n",
    "plt.xlabel('Distance x-direction (m)')\n",
    "plt.ylabel('Distance y-direction (m)')\n",
    "plt.gca().set_aspect('equal')\n",
    "\n",
    "# plot our 3 body model with 700 steps\n",
    "# if it is needed we can change number of steps 2 cells above in \"tarr= np.linspace(0, 10*P, 700)\"\n",
    "\n",
    "for tindx in range(len(tarr)):\n",
    "    plt.plot(x0[tindx],y0[tindx],'o',color='blue')\n",
    "    plt.plot(x1[tindx],y1[tindx],'o',color='orange')\n",
    "    plt.plot(x2[tindx],y2[tindx],'o',color='green')\n",
    "    plt.plot(0,0,'*',color='black')\n",
    "    camera.snap()\n",
    "camera.animate().save('120Msun.gif',fps=10,dpi=300)"
   ]
  },
  {
   "cell_type": "markdown",
   "metadata": {},
   "source": [
    "As we can see the lightest object will fly away. While 2*M_sun object will continue to rotate around 120*M_sun. Important to note that both objects (M_sun and 2*M_sun) will be on the bring of colision with 120*M_sun. One of the main reasons why M_sun will be able to escape 120*M_sun star is due to higher velocity and lower mass. Moreover, initially M_sun tilted further from center of mass. Therefore, it does have greater initial velocity before being interapted by 120*M_sun star"
   ]
  },
  {
   "cell_type": "markdown",
   "metadata": {},
   "source": [
    "## Possible confusions"
   ]
  },
  {
   "cell_type": "markdown",
   "metadata": {},
   "source": [
    "Initial system M_sun + 2*M_sun. Star with 120*M_sun flying through system M_sun + 2*M_sun where we left with 2*M_sun + 120*M_sun if both 2*M_sun and M_sun will not be evopirated or being absorbed by 120*M_sun. We consider case where it does not happen"
   ]
  },
  {
   "cell_type": "markdown",
   "metadata": {},
   "source": [
    "# Consider M0 = 50*M_sun where M1=M2=M_sun"
   ]
  },
  {
   "cell_type": "markdown",
   "metadata": {},
   "source": [
    "Where M2 moving away from the system of M1 and M2 objects"
   ]
  },
  {
   "cell_type": "code",
   "execution_count": 22,
   "metadata": {},
   "outputs": [],
   "source": [
    "# Parameters\n",
    "\n",
    "M0= 50*const.M_sun.cgs\n",
    "M1 = const.M_sun.cgs\n",
    "M2 = const.M_sun.cgs\n",
    "a = 1*u.au\n",
    "M = M0+M1"
   ]
  },
  {
   "cell_type": "code",
   "execution_count": 23,
   "metadata": {},
   "outputs": [
    {
     "name": "stdout",
     "output_type": "stream",
     "text": [
      "0.0196078431372549 AU 0.9803921568627451 AU 10.0 AU\n"
     ]
    }
   ],
   "source": [
    "#Total mass\n",
    "\n",
    "M=M0+M1\n",
    "meu= (M0*M1)/(M0+M1)\n",
    "\n",
    "#radiuse with respect to the center of mass\n",
    "\n",
    "r0=meu/M0*a\n",
    "r1=meu/M1*a\n",
    "r2 = 10*u.au\n",
    "print(r0, r1, r2)"
   ]
  },
  {
   "cell_type": "code",
   "execution_count": 24,
   "metadata": {},
   "outputs": [],
   "source": [
    "# Period\n",
    "\n",
    "P= np.sqrt((4*np.pi**2)*(a**3)/(const.G*M))\n",
    "G = const.G"
   ]
  },
  {
   "cell_type": "code",
   "execution_count": 25,
   "metadata": {},
   "outputs": [
    {
     "name": "stdout",
     "output_type": "stream",
     "text": [
      "4170.691077800838 m / s 208534.55389004192 m / s\n"
     ]
    }
   ],
   "source": [
    "# deine velocities\n",
    "\n",
    "v0 = 2.0*np.pi*r0/P\n",
    "v1 = 2.0*np.pi*r1/P\n",
    "\n",
    "print(v0.decompose(), v1.decompose())"
   ]
  },
  {
   "cell_type": "code",
   "execution_count": 26,
   "metadata": {},
   "outputs": [],
   "source": [
    "# Decompose variable b/c Python will not work \n",
    "# If unites are inside your equatio\n",
    "# Moreover, mathematicaly you want your integral be unitless\n",
    "\n",
    "r0 = r0.decompose().value\n",
    "r1 = r1.decompose().value\n",
    "r2 = r2.decompose().value\n",
    "\n",
    "M0 = M0.decompose().value\n",
    "M1 = M1.decompose().value\n",
    "M2 = M2.decompose().value\n",
    "\n",
    "G= G.decompose().value\n",
    "P = P.decompose().value\n",
    "\n",
    "v0 = v0.decompose().value\n",
    "v1 = v1.decompose().value\n"
   ]
  },
  {
   "cell_type": "code",
   "execution_count": 27,
   "metadata": {},
   "outputs": [
    {
     "data": {
      "image/png": "[encoded data removed]",
      "text/plain": [
       "<Figure size 864x864 with 1 Axes>"
      ]
     },
     "metadata": {
      "needs_background": "light"
     },
     "output_type": "display_data"
    }
   ],
   "source": [
    "# define system and everything else\n",
    "\n",
    "def df_3body_SI(vec,t):\n",
    "    x0 = vec[0]\n",
    "    y0 = vec[1]\n",
    "    z0 = vec[2]\n",
    "    vx0 = vec[3]\n",
    "    vy0 = vec[4]\n",
    "    vz0 = vec[5]\n",
    "    \n",
    "    x1= vec[6]\n",
    "    y1= vec[7]\n",
    "    z1= vec[8]\n",
    "    vx1= vec[9]\n",
    "    vy1= vec[10]\n",
    "    vz1= vec[11]\n",
    "\n",
    "    x2= vec[12]\n",
    "    y2= vec[13]\n",
    "    z2= vec[14]\n",
    "    vx2= vec[15]\n",
    "    vy2= vec[16]\n",
    "    vz2= vec[17]\n",
    "    \n",
    "    # define radius with respect to position\n",
    "    \n",
    "    r01 = np.sqrt((x1-x0)**2+(y1-y0)**2+(z1-z0)**2)\n",
    "    r02 = np.sqrt((x2-x0)**2+(y2-y0)**2+(z2-z0)**2)\n",
    "    r12 = np.sqrt((x2-x1)**2+(y2-y1)**2+(z2-z1)**2)\n",
    "\n",
    "    dvec = np.zeros(len(vec))\n",
    "    dvec[0] = vx0\n",
    "    dvec[1] = vy0\n",
    "    dvec[2] = vz0\n",
    "    dvec[3] = G*M1*(x1-x0)/r01**3 + G*M2*(x2-x0)/r02**3\n",
    "    dvec[4] = G*M1*(y1-y0)/r01**3 + G*M2*(y2-y0)/r02**3\n",
    "    dvec[5] = G*M1*(z1-z0)/r01**3 + G*M2*(z2-z0)/r02**3\n",
    "    \n",
    "    dvec[6] = vx1\n",
    "    dvec[7] = vy1\n",
    "    dvec[8] = vz1\n",
    "    dvec[9] = G*M0*(x0-x1)/r01**3 + G*M2*(x2-x1)/r12**3\n",
    "    dvec[10] = G*M0*(y0-y1)/r01**3 + G*M2*(y2-y1)/r12**3\n",
    "    dvec[11] = G*M0*(z0-z1)/r01**3 + G*M2*(z2-z1)/r12**3\n",
    "    \n",
    "    dvec[12] = vy2\n",
    "    dvec[13] = vz2\n",
    "    dvec[14] = vx2\n",
    "    dvec[15] = G*M1*(x1-x2)/r12**3 + G*M0*(x0-x2)/r02**3\n",
    "    dvec[16] = G*M1*(y1-y2)/r12**3 + G*M0*(y0-y2)/r02**3\n",
    "    dvec[17] = G*M1*(z1-z2)/r12**3 + G*M0*(z0-z2)/r02**3\n",
    "    return dvec\n",
    "\n",
    "#initial radius, initial velocity\n",
    "\n",
    "tarr= np.linspace(0, 10*P, 700)\n",
    "vec0 = np.array([r0, 0, 0, 0, v0, 0, -r1, 0, 0, 0, -v1, 0, -r2, 0, 0, 0, -v0, 0])\n",
    "ans0 = integrate.odeint(df_3body_SI, vec0, tarr)\n",
    "\n",
    "\n",
    "# extract the various variables\n",
    "\n",
    "x0 = ans0[:,0]\n",
    "y0 = ans0[:,1]\n",
    "z0 = ans0[:,2]\n",
    "vx0 = ans0[:,3]\n",
    "vy0 = ans0[:,4]\n",
    "vz0 = ans0[:,5]\n",
    "\n",
    "# extract the various variables\n",
    "\n",
    "x1 = ans0[:,6]\n",
    "y1 = ans0[:,7]\n",
    "z1 = ans0[:,8]\n",
    "vx1 = ans0[:,9]\n",
    "vy1 = ans0[:,10]\n",
    "vz1 = ans0[:,11]\n",
    "\n",
    "\n",
    "# extract the various variables\n",
    "\n",
    "x2 = ans0[:,12]\n",
    "y2 = ans0[:,13]\n",
    "z2 = ans0[:,14]\n",
    "vx2 = ans0[:,15]\n",
    "vy2 = ans0[:,16]\n",
    "vz2 = ans0[:,17]\n",
    "\n",
    "# set the plot\n",
    "\n",
    "plt.figure(figsize=(12,12))\n",
    "plt.plot(x0,y0, label = \"Binary 1\")\n",
    "plt.plot(x1,y1, label = \"Binary 2\")\n",
    "plt.plot(x2,y2, label = \"Fly-by body\")\n",
    "\n",
    "# mark the star's position\n",
    "\n",
    "plt.title(\"Modeling M0 + M1 with M2 moving away\")\n",
    "plt.xlim(-10*10**12, 2*10**12)\n",
    "plt.ylim(-20*10**11, 10*10**11)\n",
    "\n",
    "plt.plot(0,0,'*',color='black')\n",
    "plt.legend(loc='lower left')\n",
    "plt.xlabel('Distance x-direction (m)')\n",
    "plt.ylabel('Distance y-direction (m)')\n",
    "plt.gca().set_aspect('equal')\n",
    "plt.show()"
   ]
  },
  {
   "cell_type": "code",
   "execution_count": 28,
   "metadata": {},
   "outputs": [
    {
     "name": "stderr",
     "output_type": "stream",
     "text": [
      "MovieWriter ffmpeg unavailable; trying to use <class 'matplotlib.animation.PillowWriter'> instead.\n"
     ]
    },
    {
     "data": {
      "image/png": "[encoded data removed]",
      "text/plain": [
       "<Figure size 720x720 with 1 Axes>"
      ]
     },
     "metadata": {
      "needs_background": "light"
     },
     "output_type": "display_data"
    }
   ],
   "source": [
    "# set up the plot in motion\n",
    "\n",
    "fig = plt.figure(figsize=(10,10))\n",
    "\n",
    "camera = Camera(fig)\n",
    "\n",
    "#set your limits after a revision\n",
    "\n",
    "plt.title(\"Modeling M0 + M1 with M2 moving away in motion\")\n",
    "plt.xlim(-0.2*10**13, 0.2*10**13)\n",
    "plt.ylim(-1*10**12, 1*10**12)\n",
    "\n",
    "# set x and y lables\n",
    "\n",
    "plt.xlabel('Distance x-direction (m)')\n",
    "plt.ylabel('Distance y-direction (m)')\n",
    "plt.gca().set_aspect('equal')\n",
    "\n",
    "# plot our 3 body model with 700 steps\n",
    "# if it is needed we can change number of steps 2 cells above in \"tarr= np.linspace(0, 10*P, 700)\"\n",
    "\n",
    "for tindx in range(len(tarr)):\n",
    "    plt.plot(x0[tindx],y0[tindx],'o',color='blue')\n",
    "    plt.plot(x1[tindx],y1[tindx],'o',color='orange')\n",
    "    plt.plot(x2[tindx],y2[tindx],'o',color='green')\n",
    "    plt.plot(0,0,'*',color='black')\n",
    "    camera.snap()\n",
    "camera.animate().save('50Msun.gif',fps=10,dpi=300)"
   ]
  },
  {
   "cell_type": "markdown",
   "metadata": {},
   "source": [
    "As we can see blue object with mass M2 will travel in curve trajectory while system M0 + M2 almost unchange. Main cause of such behavior is that M2 << than (M0 + M1). Simultaniuselly gravitational Force will change with respect to position of M1. Such motion changes the direction of M2 from linear to curve like structure"
   ]
  },
  {
   "cell_type": "markdown",
   "metadata": {},
   "source": [
    "### Note"
   ]
  },
  {
   "cell_type": "markdown",
   "metadata": {},
   "source": [
    "System M0 + M1 will continue to move forward, while M2 will change its derection, but will not fall in system M0 + M1. In other words, M2 continue to move forward an explore endless universe"
   ]
  },
  {
   "cell_type": "markdown",
   "metadata": {},
   "source": [
    "# Consider Fly through object M2 = 120*M_sun"
   ]
  },
  {
   "cell_type": "markdown",
   "metadata": {},
   "source": [
    "#### What is going to happen if mass of our fly through object will be 120*M_sun given everything else is constant (M2 = 120*M_sun)"
   ]
  },
  {
   "cell_type": "code",
   "execution_count": 29,
   "metadata": {},
   "outputs": [],
   "source": [
    "# Parameters\n",
    "\n",
    "M0= const.M_sun.cgs\n",
    "M1 = 2*const.M_sun.cgs\n",
    "M2 = 120*const.M_sun.cgs\n",
    "a = 1*u.au\n",
    "M = M0+M1"
   ]
  },
  {
   "cell_type": "code",
   "execution_count": 30,
   "metadata": {},
   "outputs": [],
   "source": [
    "# Total mass\n",
    "\n",
    "M=M0+M1\n",
    "meu= (M0*M1)/(M0+M1)\n",
    "\n",
    "# Radiuse with respect to the center of mass\n",
    "\n",
    "r0=meu/M0*a\n",
    "r1=meu/M1*a\n",
    "r2 = 10*u.au\n",
    "r2y = 4*u.au"
   ]
  },
  {
   "cell_type": "code",
   "execution_count": 31,
   "metadata": {},
   "outputs": [],
   "source": [
    "# Period\n",
    "\n",
    "P= np.sqrt((4*np.pi**2)*(a**3)/(const.G*M))\n",
    "G = const.G"
   ]
  },
  {
   "cell_type": "code",
   "execution_count": 32,
   "metadata": {},
   "outputs": [
    {
     "name": "stdout",
     "output_type": "stream",
     "text": [
      "34392.399691188046 m / s 17196.199845594023 m / s\n"
     ]
    }
   ],
   "source": [
    "# Parameters for df_3body_cgs\n",
    "\n",
    "v0 = 2.0*np.pi*r0/P\n",
    "v1 = 2.0*np.pi*r1/P\n",
    "v2 = 5*v0\n",
    "\n",
    "print(v0.decompose(), v1.decompose())"
   ]
  },
  {
   "cell_type": "code",
   "execution_count": 33,
   "metadata": {},
   "outputs": [],
   "source": [
    "# Decompose variable b/c Python will not work \n",
    "# If unites are inside your equatio\n",
    "# Moreover, mathematicaly you want your integral be unitless\n",
    "\n",
    "r0 = r0.decompose().value\n",
    "r1 = r1.decompose().value\n",
    "r2 = r2.decompose().value\n",
    "r2y = r2y.decompose().value\n",
    "\n",
    "M0 = M0.decompose().value\n",
    "M1 = M1.decompose().value\n",
    "M2 = M2.decompose().value\n",
    "\n",
    "G= G.decompose().value\n",
    "P = P.decompose().value\n",
    "\n",
    "v0 = v0.decompose().value\n",
    "v1 = v1.decompose().value\n",
    "v2 = v2.decompose().value\n"
   ]
  },
  {
   "cell_type": "code",
   "execution_count": 34,
   "metadata": {},
   "outputs": [
    {
     "data": {
      "image/png": "[encoded data removed]",
      "text/plain": [
       "<Figure size 864x864 with 1 Axes>"
      ]
     },
     "metadata": {
      "needs_background": "light"
     },
     "output_type": "display_data"
    }
   ],
   "source": [
    "# define system and everything else\n",
    "\n",
    "def df_3body_SI(vec,t):\n",
    "    x0 = vec[0]\n",
    "    y0 = vec[1]\n",
    "    z0 = vec[2]\n",
    "    vx0 = vec[3]\n",
    "    vy0 = vec[4]\n",
    "    vz0 = vec[5]\n",
    "    \n",
    "    x1= vec[6]\n",
    "    y1= vec[7]\n",
    "    z1= vec[8]\n",
    "    vx1= vec[9]\n",
    "    vy1= vec[10]\n",
    "    vz1= vec[11]\n",
    "\n",
    "    x2= vec[12]\n",
    "    y2= vec[13]\n",
    "    z2= vec[14]\n",
    "    vx2= vec[15]\n",
    "    vy2= vec[16]\n",
    "    vz2= vec[17]\n",
    "    \n",
    "    # define radius with respect to position\n",
    "    \n",
    "    r01 = np.sqrt((x1-x0)**2+(y1-y0)**2+(z1-z0)**2)\n",
    "    r02 = np.sqrt((x2-x0)**2+(y2-y0)**2+(z2-z0)**2)\n",
    "    r12 = np.sqrt((x2-x1)**2+(y2-y1)**2+(z2-z1)**2)\n",
    "\n",
    "    dvec = np.zeros(len(vec))\n",
    "    dvec[0] = vx0\n",
    "    dvec[1] = vy0\n",
    "    dvec[2] = vz0\n",
    "    dvec[3] = G*M1*(x1-x0)/r01**3 + G*M2*(x2-x0)/r02**3\n",
    "    dvec[4] = G*M1*(y1-y0)/r01**3 + G*M2*(y2-y0)/r02**3\n",
    "    dvec[5] = G*M1*(z1-z0)/r01**3 + G*M2*(z2-z0)/r02**3\n",
    "    \n",
    "    dvec[6] = vx1\n",
    "    dvec[7] = vy1\n",
    "    dvec[8] = vz1\n",
    "    dvec[9] = G*M0*(x0-x1)/r01**3 + G*M2*(x2-x1)/r12**3\n",
    "    dvec[10] = G*M0*(y0-y1)/r01**3 + G*M2*(y2-y1)/r12**3\n",
    "    dvec[11] = G*M0*(z0-z1)/r01**3 + G*M2*(z2-z1)/r12**3\n",
    "    \n",
    "    dvec[12] = vy2\n",
    "    dvec[13] = vz2\n",
    "    dvec[14] = vx2\n",
    "    dvec[15] = G*M1*(x1-x2)/r12**3 + G*M0*(x0-x2)/r02**3\n",
    "    dvec[16] = G*M1*(y1-y2)/r12**3 + G*M0*(y0-y2)/r02**3\n",
    "    dvec[17] = G*M1*(z1-z2)/r12**3 + G*M0*(z0-z2)/r02**3\n",
    "    return dvec\n",
    "\n",
    "#initial radius, initial velocity\n",
    "\n",
    "tarr= np.linspace(0, 10*P, 700)\n",
    "vec0 = np.array([r0, 0, 0, 0, v0, 0, -r1, 0, 0, 0, -v1, 0, -r2, r2y, 0, 0, v2, 0])\n",
    "ans0 = integrate.odeint(df_3body_SI, vec0, tarr)\n",
    "\n",
    "\n",
    "# extract the various variables\n",
    "\n",
    "x0 = ans0[:,0]\n",
    "y0 = ans0[:,1]\n",
    "z0 = ans0[:,2]\n",
    "vx0 = ans0[:,3]\n",
    "vy0 = ans0[:,4]\n",
    "vz0 = ans0[:,5]\n",
    "\n",
    "# extract the various variables\n",
    "\n",
    "x1 = ans0[:,6]\n",
    "y1 = ans0[:,7]\n",
    "z1 = ans0[:,8]\n",
    "vx1 = ans0[:,9]\n",
    "vy1 = ans0[:,10]\n",
    "vz1 = ans0[:,11]\n",
    "\n",
    "\n",
    "# extract the various variables\n",
    "\n",
    "x2 = ans0[:,12]\n",
    "y2 = ans0[:,13]\n",
    "z2 = ans0[:,14]\n",
    "vx2 = ans0[:,15]\n",
    "vy2 = ans0[:,16]\n",
    "vz2 = ans0[:,17]\n",
    "\n",
    "# set the plot\n",
    "\n",
    "plt.figure(figsize=(12,12))\n",
    "plt.plot(x0,y0, label = \"Binary 1\")\n",
    "plt.plot(x1,y1, label = \"Binary 2\")\n",
    "plt.plot(x2,y2, label = \"Fly-by body\")\n",
    "\n",
    "\n",
    "\n",
    "plt.title(\"Modeling M0 + M1 with M2 pathing through them\")\n",
    "plt.xlim(-0.2*10**13, 2*10**13)\n",
    "plt.ylim(-1*10**12, 3*10**12)\n",
    "\n",
    "plt.plot(0,0,'*',color='black')\n",
    "plt.legend(loc='lower left')\n",
    "plt.xlabel('Distance x-direction (m)')\n",
    "plt.ylabel('Distance y-direction (m)')\n",
    "plt.gca().set_aspect('equal')\n",
    "plt.show()"
   ]
  },
  {
   "cell_type": "code",
   "execution_count": 35,
   "metadata": {},
   "outputs": [
    {
     "name": "stderr",
     "output_type": "stream",
     "text": [
      "MovieWriter ffmpeg unavailable; trying to use <class 'matplotlib.animation.PillowWriter'> instead.\n"
     ]
    },
    {
     "data": {
      "image/png": "[encoded data removed]",
      "text/plain": [
       "<Figure size 720x720 with 1 Axes>"
      ]
     },
     "metadata": {
      "needs_background": "light"
     },
     "output_type": "display_data"
    }
   ],
   "source": [
    "# set up the plot in motion\n",
    "\n",
    "fig = plt.figure(figsize=(10,10))\n",
    "\n",
    "camera = Camera(fig)\n",
    "\n",
    "#set your limits after a revision\n",
    "\n",
    "plt.title(\"Modeling M0 + M1 with M2 pathing through them in motion\")\n",
    "\n",
    "\n",
    "# set x and y lables\n",
    "\n",
    "plt.xlabel('Distance x-direction (m)')\n",
    "plt.ylabel('Distance y-direction (m)')\n",
    "plt.gca().set_aspect('equal')\n",
    "\n",
    "# plot our 3 body model with 700 steps\n",
    "# if it is needed we can change number of steps 2 cells above in \"tarr= np.linspace(0, 10*P, 700)\"\n",
    "\n",
    "for tindx in range(len(tarr)):\n",
    "    plt.plot(x0[tindx],y0[tindx],'o',color='blue')\n",
    "    plt.plot(x1[tindx],y1[tindx],'o',color='orange')\n",
    "    plt.plot(x2[tindx],y2[tindx],'o',color='green')\n",
    "    plt.plot(0,0,'*',color='black')\n",
    "    camera.snap()\n",
    "camera.animate().save('120MsunFlyThrough.gif',fps=10,dpi=300)"
   ]
  },
  {
   "cell_type": "markdown",
   "metadata": {},
   "source": [
    "Conclude that sytem M0, M1 flys away from M2. Due to high speed of M2 relative to the system of M0 & M1 and its closed distance from M0 and M2. We could observe that M0 and M1 flies away from M2 instead of being traped. Moreover, M0 and M1 gets closer to each other."
   ]
  },
  {
   "cell_type": "markdown",
   "metadata": {},
   "source": [
    "# Fly through M2 = M1 = M_sun while in system M1 + M0, M0 = 50*M_sun"
   ]
  },
  {
   "cell_type": "code",
   "execution_count": 36,
   "metadata": {},
   "outputs": [],
   "source": [
    "# Parameters\n",
    "\n",
    "M0= 50*const.M_sun.cgs\n",
    "M1 = const.M_sun.cgs\n",
    "M2 = const.M_sun.cgs\n",
    "a = 1*u.au\n",
    "M = M0+M1"
   ]
  },
  {
   "cell_type": "code",
   "execution_count": 37,
   "metadata": {},
   "outputs": [],
   "source": [
    "# Total mass\n",
    "\n",
    "M=M0+M1\n",
    "meu= (M0*M1)/(M0+M1)\n",
    "\n",
    "# Radiuse with respect to the center of mass\n",
    "\n",
    "r0=meu/M0*a\n",
    "r1=meu/M1*a\n",
    "r2 = 10*u.au\n",
    "r2y = 4*u.au"
   ]
  },
  {
   "cell_type": "code",
   "execution_count": 38,
   "metadata": {},
   "outputs": [],
   "source": [
    "# Period\n",
    "\n",
    "P= np.sqrt((4*np.pi**2)*(a**3)/(const.G*M))\n",
    "G = const.G"
   ]
  },
  {
   "cell_type": "code",
   "execution_count": 39,
   "metadata": {},
   "outputs": [
    {
     "name": "stdout",
     "output_type": "stream",
     "text": [
      "4170.691077800838 m / s 208534.55389004192 m / s\n"
     ]
    }
   ],
   "source": [
    "# Parameters for df_3body_cgs\n",
    "\n",
    "v0 = 2.0*np.pi*r0/P\n",
    "v1 = 2.0*np.pi*r1/P\n",
    "v2 = 5*v0\n",
    "\n",
    "print(v0.decompose(), v1.decompose())"
   ]
  },
  {
   "cell_type": "code",
   "execution_count": 40,
   "metadata": {},
   "outputs": [],
   "source": [
    "# Decompose variable b/c Python will not work \n",
    "# If unites are inside your equatio\n",
    "# Moreover, mathematicaly you want your integral be unitless\n",
    "\n",
    "r0 = r0.decompose().value\n",
    "r1 = r1.decompose().value\n",
    "r2 = r2.decompose().value\n",
    "r2y = r2y.decompose().value\n",
    "\n",
    "M0 = M0.decompose().value\n",
    "M1 = M1.decompose().value\n",
    "M2 = M2.decompose().value\n",
    "\n",
    "G= G.decompose().value\n",
    "P = P.decompose().value\n",
    "\n",
    "v0 = v0.decompose().value\n",
    "v1 = v1.decompose().value\n",
    "v2 = v2.decompose().value\n"
   ]
  },
  {
   "cell_type": "code",
   "execution_count": 41,
   "metadata": {},
   "outputs": [
    {
     "data": {
      "image/png": "[encoded data removed]",
      "text/plain": [
       "<Figure size 864x864 with 1 Axes>"
      ]
     },
     "metadata": {
      "needs_background": "light"
     },
     "output_type": "display_data"
    }
   ],
   "source": [
    "# define system and everything else\n",
    "\n",
    "def df_3body_SI(vec,t):\n",
    "    x0 = vec[0]\n",
    "    y0 = vec[1]\n",
    "    z0 = vec[2]\n",
    "    vx0 = vec[3]\n",
    "    vy0 = vec[4]\n",
    "    vz0 = vec[5]\n",
    "    \n",
    "    x1= vec[6]\n",
    "    y1= vec[7]\n",
    "    z1= vec[8]\n",
    "    vx1= vec[9]\n",
    "    vy1= vec[10]\n",
    "    vz1= vec[11]\n",
    "\n",
    "    x2= vec[12]\n",
    "    y2= vec[13]\n",
    "    z2= vec[14]\n",
    "    vx2= vec[15]\n",
    "    vy2= vec[16]\n",
    "    vz2= vec[17]\n",
    "    \n",
    "    # define radius with respect to position\n",
    "    \n",
    "    r01 = np.sqrt((x1-x0)**2+(y1-y0)**2+(z1-z0)**2)\n",
    "    r02 = np.sqrt((x2-x0)**2+(y2-y0)**2+(z2-z0)**2)\n",
    "    r12 = np.sqrt((x2-x1)**2+(y2-y1)**2+(z2-z1)**2)\n",
    "\n",
    "    dvec = np.zeros(len(vec))\n",
    "    dvec[0] = vx0\n",
    "    dvec[1] = vy0\n",
    "    dvec[2] = vz0\n",
    "    dvec[3] = G*M1*(x1-x0)/r01**3 + G*M2*(x2-x0)/r02**3\n",
    "    dvec[4] = G*M1*(y1-y0)/r01**3 + G*M2*(y2-y0)/r02**3\n",
    "    dvec[5] = G*M1*(z1-z0)/r01**3 + G*M2*(z2-z0)/r02**3\n",
    "    \n",
    "    dvec[6] = vx1\n",
    "    dvec[7] = vy1\n",
    "    dvec[8] = vz1\n",
    "    dvec[9] = G*M0*(x0-x1)/r01**3 + G*M2*(x2-x1)/r12**3\n",
    "    dvec[10] = G*M0*(y0-y1)/r01**3 + G*M2*(y2-y1)/r12**3\n",
    "    dvec[11] = G*M0*(z0-z1)/r01**3 + G*M2*(z2-z1)/r12**3\n",
    "    \n",
    "    dvec[12] = vy2\n",
    "    dvec[13] = vz2\n",
    "    dvec[14] = vx2\n",
    "    dvec[15] = G*M1*(x1-x2)/r12**3 + G*M0*(x0-x2)/r02**3\n",
    "    dvec[16] = G*M1*(y1-y2)/r12**3 + G*M0*(y0-y2)/r02**3\n",
    "    dvec[17] = G*M1*(z1-z2)/r12**3 + G*M0*(z0-z2)/r02**3\n",
    "    return dvec\n",
    "\n",
    "#initial radius, initial velocity\n",
    "\n",
    "tarr= np.linspace(0, 10*P, 700)\n",
    "vec0 = np.array([r0, 0, 0, 0, v0, 0, -r1, 0, 0, 0, -v1, 0, -r2, r2y, 0, 0, v2, 0])\n",
    "ans0 = integrate.odeint(df_3body_SI, vec0, tarr)\n",
    "\n",
    "\n",
    "# extract the various variables\n",
    "\n",
    "x0 = ans0[:,0]\n",
    "y0 = ans0[:,1]\n",
    "z0 = ans0[:,2]\n",
    "vx0 = ans0[:,3]\n",
    "vy0 = ans0[:,4]\n",
    "vz0 = ans0[:,5]\n",
    "\n",
    "# extract the various variables\n",
    "\n",
    "x1 = ans0[:,6]\n",
    "y1 = ans0[:,7]\n",
    "z1 = ans0[:,8]\n",
    "vx1 = ans0[:,9]\n",
    "vy1 = ans0[:,10]\n",
    "vz1 = ans0[:,11]\n",
    "\n",
    "\n",
    "# extract the various variables\n",
    "\n",
    "x2 = ans0[:,12]\n",
    "y2 = ans0[:,13]\n",
    "z2 = ans0[:,14]\n",
    "vx2 = ans0[:,15]\n",
    "vy2 = ans0[:,16]\n",
    "vz2 = ans0[:,17]\n",
    "\n",
    "# set the plot\n",
    "\n",
    "plt.figure(figsize=(12,12))\n",
    "plt.plot(x0,y0, label = \"Binary 1\")\n",
    "plt.plot(x1,y1, label = \"Binary 2\")\n",
    "plt.plot(x2,y2, label = \"Fly-by body\")\n",
    "\n",
    "# mark the star's position\n",
    "\n",
    "plt.title(\"Modeling M0 + M1 with M2 pathing through them\")\n",
    "plt.xlim(-0.2*10**13, 0.4*10**13)\n",
    "plt.ylim(-2*10**12, 2*10**12)\n",
    "\n",
    "plt.plot(0,0,'*',color='black')\n",
    "plt.legend(loc='lower left')\n",
    "plt.xlabel('Distance x-direction (m)')\n",
    "plt.ylabel('Distance y-direction (m)')\n",
    "plt.gca().set_aspect('equal')\n",
    "plt.show()"
   ]
  },
  {
   "cell_type": "code",
   "execution_count": 42,
   "metadata": {},
   "outputs": [
    {
     "name": "stderr",
     "output_type": "stream",
     "text": [
      "MovieWriter ffmpeg unavailable; trying to use <class 'matplotlib.animation.PillowWriter'> instead.\n"
     ]
    },
    {
     "data": {
      "image/png": "[encoded data removed]",
      "text/plain": [
       "<Figure size 720x720 with 1 Axes>"
      ]
     },
     "metadata": {
      "needs_background": "light"
     },
     "output_type": "display_data"
    }
   ],
   "source": [
    "# set up the plot in motion\n",
    "\n",
    "fig = plt.figure(figsize=(10,10))\n",
    "\n",
    "camera = Camera(fig)\n",
    "\n",
    "#set your limits after a revision\n",
    "\n",
    "plt.title(\"Modeling M0 + M1 with M2 pathing through them in motion\")\n",
    "plt.xlim(-0.2*10**13, 0.4*10**13)\n",
    "plt.ylim(-2*10**12, 2*10**12)\n",
    "\n",
    "# set x and y lables\n",
    "\n",
    "plt.xlabel('Distance x-direction (m)')\n",
    "plt.ylabel('Distance y-direction (m)')\n",
    "plt.gca().set_aspect('equal')\n",
    "\n",
    "# plot our 3 body model with 700 steps\n",
    "# if it is needed we can change number of steps 2 cells above in \"tarr= np.linspace(0, 10*P, 700)\"\n",
    "\n",
    "for tindx in range(len(tarr)):\n",
    "    plt.plot(x0[tindx],y0[tindx],'o',color='blue')\n",
    "    plt.plot(x1[tindx],y1[tindx],'o',color='orange')\n",
    "    plt.plot(x2[tindx],y2[tindx],'o',color='green')\n",
    "    plt.plot(0,0,'*',color='black')\n",
    "    camera.snap()\n",
    "camera.animate().save('50MsunWithFlyThroughObject.gif',fps=10,dpi=300)"
   ]
  },
  {
   "cell_type": "markdown",
   "metadata": {},
   "source": [
    "As we can see, M2 getting traped by the system of M0 + M1 and form system consiste of M0 + M1 + M2"
   ]
  },
  {
   "cell_type": "markdown",
   "metadata": {},
   "source": [
    "# Falidations:"
   ]
  },
  {
   "cell_type": "markdown",
   "metadata": {},
   "source": [
    "As we saw from the above, in all cases we got results exactly as we expected to be (on the paper). However, there is an elephant in the room. This model does not take into consideration radius of each object and it may cause some miss modeling. In order for this module to be as accurate as it is possible. We will have to add extra lines of code that could specified radius of each object respectively. In general it is okay model"
   ]
  }
 ],
 "metadata": {
  "kernelspec": {
   "display_name": "Python 3",
   "language": "python",
   "name": "python3"
  },
  "language_info": {
   "codemirror_mode": {
    "name": "ipython",
    "version": 3
   },
   "file_extension": ".py",
   "mimetype": "text/x-python",
   "name": "python",
   "nbconvert_exporter": "python",
   "pygments_lexer": "ipython3",
   "version": "3.8.5"
  }
 },
 "nbformat": 4,
 "nbformat_minor": 2
}
